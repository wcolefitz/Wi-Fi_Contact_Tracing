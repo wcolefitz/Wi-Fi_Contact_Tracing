{
 "cells": [
  {
   "cell_type": "code",
   "execution_count": null,
   "metadata": {},
   "outputs": [],
   "source": [
    "from datetime import datetime\n",
    "import pandas as pd"
   ]
  },
  {
   "cell_type": "code",
   "execution_count": 3,
   "metadata": {},
   "outputs": [],
   "source": [
    "def import_txt(index_start, index_stop, initials, current_date, year, month, date, txt_file_location):\n",
    "    '''\n",
    "    Imports .txt files, adds Date and Initial columns and exports as CSVs\n",
    "\n",
    "            Parameters:\n",
    "                    index_start (int): starting test number to be imported\n",
    "                    index_stop (int): ending test number for import\n",
    "                    initials (str): initials of test owner\n",
    "                    current_date (bool): was the Wi-Fi scan executed today\n",
    "                    year (int): year of Wi-Fi scan date (only matters if current_date == False)\n",
    "                    month (int): month of Wi-Fi scan date (only matters if current_date == False)\n",
    "                    date (int): day of Wi-Fi scan date (only matters if current_date == False)\n",
    "                    txt_file_location (str): path of .txt files\n",
    "\n",
    "            Returns:\n",
    "    \n",
    "    '''\n",
    "    variables = []\n",
    "\n",
    "    for number in range(index_start,index_stop+1):\n",
    "        variables.append(\"test_%s_%s\" %(number, initials))\n",
    "        variables[number-index_start]=pd.read_csv(txt_file_location + variables[number-index_start]+'.txt', sep=\",\" ,engine='c', skipinitialspace=True, header=0)\n",
    "        if current_date==True: #If test taken today\n",
    "            variables[number-index_start]['Date']=datetime.today().strftime('%d-%m-%Y') #use this for todays date\n",
    "        else: #If test not taken today\n",
    "            variables[number-index_start]['Date']=datetime(year, month, date).strftime('%d-%m-%Y') #use this to manually input date\n",
    "        variables[number-index_start]['Test']=number\n",
    "        variables[number-index_start]['Phone']=initials\n",
    "        variables[number-index_start].to_csv('test_'+str(number)+'_'+initials+'.csv', index = False)\n",
    "    return"
   ]
  }
 ],
 "metadata": {
  "kernelspec": {
   "display_name": "Python 3",
   "language": "python",
   "name": "python3"
  },
  "language_info": {
   "codemirror_mode": {
    "name": "ipython",
    "version": 3
   },
   "file_extension": ".py",
   "mimetype": "text/x-python",
   "name": "python",
   "nbconvert_exporter": "python",
   "pygments_lexer": "ipython3",
   "version": "3.8.3"
  }
 },
 "nbformat": 4,
 "nbformat_minor": 4
}
